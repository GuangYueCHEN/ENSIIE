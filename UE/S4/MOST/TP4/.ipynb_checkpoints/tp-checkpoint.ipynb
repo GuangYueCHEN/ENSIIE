{
 "cells": [
  {
   "cell_type": "code",
   "execution_count": 1,
   "metadata": {},
   "outputs": [],
   "source": [
    "import random\n",
    "import numpy\n",
    "import matplotlib.pyplot as plt\n",
    "%matplotlib inline"
   ]
  },
  {
   "cell_type": "code",
   "execution_count": 2,
   "metadata": {},
   "outputs": [],
   "source": [
    "def exp_va(Llambda):\n",
    "    import numpy\n",
    "    import random\n",
    "    return -1.0 * numpy.log(1-random.random())/Llambda"
   ]
  },
  {
   "cell_type": "code",
   "execution_count": 6,
   "metadata": {},
   "outputs": [],
   "source": [
    "def donnes(taille,l1,l2,k):\n",
    "    data=[]\n",
    "    for i in range(taille):\n",
    "        if i < k:\n",
    "            data.append(exp_va(l1))\n",
    "        else:\n",
    "            data.append(exp_va(l2))\n",
    "    return data"
   ]
  },
  {
   "cell_type": "code",
   "execution_count": 93,
   "metadata": {},
   "outputs": [],
   "source": [
    "data=donnes(100,2,5,25)"
   ]
  },
  {
   "cell_type": "markdown",
   "metadata": {},
   "source": [
    "$\\Lambda_{n}(k)$\n",
    "likehood"
   ]
  },
  {
   "cell_type": "code",
   "execution_count": 53,
   "metadata": {},
   "outputs": [],
   "source": [
    "def log_vrais(data,k):\n",
    "    return -k*numpy.log(numpy.mean(data[1:k]))-(len(data)-k)*numpy.log(numpy.mean(data[k:]))"
   ]
  },
  {
   "cell_type": "markdown",
   "metadata": {},
   "source": [
    "estimer k, pour estimer 3 parameters on a besoin au moins 4 observations"
   ]
  },
  {
   "cell_type": "code",
   "execution_count": 57,
   "metadata": {},
   "outputs": [],
   "source": [
    "def estimer_k(data):\n",
    "    import numpy\n",
    "    Ll=[]\n",
    "    for k in range(4,len(data)-3):\n",
    "        Ll.append(log_vrais(data,k))\n",
    "    return int(4+numpy.argmax(Ll))"
   ]
  },
  {
   "cell_type": "markdown",
   "metadata": {},
   "source": [
    "presenter graphiquement"
   ]
  },
  {
   "cell_type": "code",
   "execution_count": 74,
   "metadata": {},
   "outputs": [],
   "source": [
    "def graphe_model(data):\n",
    "    import matplotlib.pyplot as plt\n",
    "    Ll=[]\n",
    "    for k in range(4,len(data)-3):\n",
    "        Ll.append(log_vrais(data,k))\n",
    "    esti=estimer_k(data)\n",
    "    plt.title(\"$\\hat{k}=%d$\"%esti)\n",
    "    plt.plot(Ll)\n",
    "    plt.show()\n",
    "    \n",
    "    xbark=numpy.mean(data[:esti])\n",
    "    xbaretk=numpy.mean(data[esti:])\n",
    "    return 1.0/xbark , 1.0/xbaretk"
   ]
  },
  {
   "cell_type": "code",
   "execution_count": 94,
   "metadata": {},
   "outputs": [
    {
     "data": {
      "image/png": "[encoded data removed]",
      "text/plain": [
       "<Figure size 432x288 with 1 Axes>"
      ]
     },
     "metadata": {
      "needs_background": "light"
     },
     "output_type": "display_data"
    }
   ],
   "source": [
    "graphe_model(data)"
   ]
  }
 ],
 "metadata": {
  "kernelspec": {
   "display_name": "Python 3",
   "language": "python",
   "name": "python3"
  },
  "language_info": {
   "codemirror_mode": {
    "name": "ipython",
    "version": 3
   },
   "file_extension": ".py",
   "mimetype": "text/x-python",
   "name": "python",
   "nbconvert_exporter": "python",
   "pygments_lexer": "ipython3",
   "version": "3.6.6"
  }
 },
 "nbformat": 4,
 "nbformat_minor": 2
}
