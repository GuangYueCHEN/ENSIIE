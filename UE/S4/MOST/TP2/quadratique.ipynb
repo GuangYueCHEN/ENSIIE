{
 "cells": [
  {
   "cell_type": "code",
   "execution_count": 1,
   "metadata": {},
   "outputs": [],
   "source": [
    "import scipy.optimize as opt\n",
    "import numpy\n",
    "import random"
   ]
  },
  {
   "cell_type": "code",
   "execution_count": 2,
   "metadata": {},
   "outputs": [],
   "source": [
    "def tendance_puissance_quatratique(data):\n",
    "    import numpy\n",
    "    import random\n",
    "    data=numpy.array(data)\n",
    "    def objectif(alpha,t):\n",
    "        return data-alpha[0]-alpha[1]*alpha[2]**t\n",
    "    A=numpy.array([random.random() for _ in range(3)])\n",
    "    TT=[i for i in range(1,len(data)+1)]\n",
    "    R=opt.leastsq(objectif,A,args=(TT))[0]\n",
    "    return R\n",
    "    \n"
   ]
  },
  {
   "cell_type": "code",
   "execution_count": 3,
   "metadata": {},
   "outputs": [],
   "source": [
    "\n",
    "def tendance_puissance_exponentielle3(data):\n",
    "    import numpy\n",
    "    import random\n",
    "    data=numpy.array(data)\n",
    "    def objectif(alpha,t):\n",
    "        return data-alpha[0]-alpha[1]*numpy.exp(t)**alpha[2]\n",
    "    A=numpy.array([random.random() for _ in range(3)])\n",
    "    TT=[i for i in range(1,len(data)+1)]\n",
    "    R=opt.leastsq(objectif,A,args=(TT))[0]\n",
    "    return R\n",
    "    \n",
    "        "
   ]
  },
  {
   "cell_type": "code",
   "execution_count": 4,
   "metadata": {},
   "outputs": [],
   "source": [
    "\n",
    "    \n",
    "def tendance_puissance_exponentielle2(data):\n",
    "    import numpy\n",
    "    import random\n",
    "    data=numpy.array(data)\n",
    "    def objectif(alpha,t):\n",
    "        return data-alpha[0]-alpha[1]*(1.0+alpha[2])**t\n",
    "    A=numpy.array([random.random() for _ in range(3)])\n",
    "    TT=[i for i in range(1,len(data)+1)]\n",
    "    R=opt.leastsq(objectif,A,args=(TT))[0]\n",
    "    return R\n",
    "    "
   ]
  },
  {
   "cell_type": "code",
   "execution_count": 5,
   "metadata": {},
   "outputs": [],
   "source": [
    "def tendance_puissance_logistique(data):\n",
    "    import numpy\n",
    "    import random\n",
    "    data=numpy.array(data)\n",
    "    def objectif(alpha,t):\n",
    "        return data-1.0/(alpha[0]*numpy.exp(t)**(-alpha[1])+alpha[2])\n",
    "    A=numpy.array([random.random() for _ in range(3)])\n",
    "    TT=[i for i in range(1,len(data)+1)]\n",
    "    R=opt.leastsq(objectif,A,args=(TT))[0]\n",
    "    return R"
   ]
  },
  {
   "cell_type": "code",
   "execution_count": 263,
   "metadata": {},
   "outputs": [
    {
     "name": "stdout",
     "output_type": "stream",
     "text": [
      "[40.17107385  3.          4.        ]\n",
      "[0.44551054 0.90321514 0.9669403 ]\n",
      "[0.66926126 0.71200692 0.98709429]\n",
      "[0.1259492  0.20481646 0.31763182]\n"
     ]
    },
    {
     "name": "stderr",
     "output_type": "stream",
     "text": [
      "/Library/Frameworks/Python.framework/Versions/3.6/lib/python3.6/site-packages/ipykernel_launcher.py:7: RuntimeWarning: overflow encountered in power\n",
      "  import sys\n"
     ]
    }
   ],
   "source": [
    "#application\n",
    "N=100\n",
    "ep=numpy.random.normal(0,2,N)\n",
    "data=[]\n",
    "for t in range(N):\n",
    "    data.append(1/(2*numpy.exp(-3*t)+4)+ep[t])\n",
    "\n",
    "data2=[]\n",
    "for t in range(N):\n",
    "    data2.append(2+3*4**t+ep[t])\n",
    "\n",
    "data3=[]\n",
    "for t in range(N):\n",
    "    data3.append(2+3*(1+4)**t+ep[t])\n",
    "    \n",
    "data4=[]\n",
    "for t in range(N):\n",
    "    data4.append(2+3*numpy.exp(4)**t+ep[t])\n",
    "print(tendance_puissance_logistique(data))\n",
    "print(tendance_puissance_quatratique(data2))\n",
    "print(tendance_puissance_exponentielle2(data3))\n",
    "#print(tendance_puissance_exponentielle3(data))"
   ]
  }
 ],
 "metadata": {
  "kernelspec": {
   "display_name": "Python 3",
   "language": "python",
   "name": "python3"
  },
  "language_info": {
   "codemirror_mode": {
    "name": "ipython",
    "version": 3
   },
   "file_extension": ".py",
   "mimetype": "text/x-python",
   "name": "python",
   "nbconvert_exporter": "python",
   "pygments_lexer": "ipython3",
   "version": "3.6.6"
  }
 },
 "nbformat": 4,
 "nbformat_minor": 2
}
